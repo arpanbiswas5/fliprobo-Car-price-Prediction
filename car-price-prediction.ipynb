{
 "cells": [
  {
   "cell_type": "code",
   "execution_count": 285,
   "id": "3112e780",
   "metadata": {},
   "outputs": [],
   "source": [
    "import pandas as pd\n",
    "import seaborn as sn\n",
    "import numpy as np\n",
    "import matplotlib.pyplot as plt\n",
    "import warnings\n",
    "warnings.filterwarnings('ignore')"
   ]
  },
  {
   "cell_type": "code",
   "execution_count": 286,
   "id": "8bb6c824",
   "metadata": {},
   "outputs": [
    {
     "data": {
      "text/html": [
       "<div>\n",
       "<style scoped>\n",
       "    .dataframe tbody tr th:only-of-type {\n",
       "        vertical-align: middle;\n",
       "    }\n",
       "\n",
       "    .dataframe tbody tr th {\n",
       "        vertical-align: top;\n",
       "    }\n",
       "\n",
       "    .dataframe thead th {\n",
       "        text-align: right;\n",
       "    }\n",
       "</style>\n",
       "<table border=\"1\" class=\"dataframe\">\n",
       "  <thead>\n",
       "    <tr style=\"text-align: right;\">\n",
       "      <th></th>\n",
       "      <th>Unnamed: 0</th>\n",
       "      <th>Location</th>\n",
       "      <th>Brand</th>\n",
       "      <th>Model</th>\n",
       "      <th>Mnf_year</th>\n",
       "      <th>Driven_kms</th>\n",
       "      <th>Fuel</th>\n",
       "      <th>Gear</th>\n",
       "      <th>Owners</th>\n",
       "      <th>Car_Price</th>\n",
       "    </tr>\n",
       "  </thead>\n",
       "  <tbody>\n",
       "    <tr>\n",
       "      <th>0</th>\n",
       "      <td>0</td>\n",
       "      <td>Maharashtra</td>\n",
       "      <td>Nissan Sunny</td>\n",
       "      <td>XV</td>\n",
       "      <td>2012</td>\n",
       "      <td>44584.0 KM</td>\n",
       "      <td>DIESEL</td>\n",
       "      <td>MANUAL</td>\n",
       "      <td>2nd</td>\n",
       "      <td>3,75,000</td>\n",
       "    </tr>\n",
       "    <tr>\n",
       "      <th>1</th>\n",
       "      <td>1</td>\n",
       "      <td>Maharashtra</td>\n",
       "      <td>Skoda Superb</td>\n",
       "      <td>NaN</td>\n",
       "      <td>2016</td>\n",
       "      <td>27324.0 KM</td>\n",
       "      <td>PETROL</td>\n",
       "      <td>AUTOMATIC</td>\n",
       "      <td>--</td>\n",
       "      <td>13,80,000</td>\n",
       "    </tr>\n",
       "    <tr>\n",
       "      <th>2</th>\n",
       "      <td>2</td>\n",
       "      <td>Maharashtra</td>\n",
       "      <td>Bmw X5</td>\n",
       "      <td>2007-2013 xDrive 35i 3.0L</td>\n",
       "      <td>2011</td>\n",
       "      <td>90,000 KM</td>\n",
       "      <td>DIESEL</td>\n",
       "      <td>AUTOMATIC</td>\n",
       "      <td>2nd</td>\n",
       "      <td>17,50,000</td>\n",
       "    </tr>\n",
       "    <tr>\n",
       "      <th>3</th>\n",
       "      <td>3</td>\n",
       "      <td>Maharashtra</td>\n",
       "      <td>Mahindra Jeep</td>\n",
       "      <td>Others</td>\n",
       "      <td>2000</td>\n",
       "      <td>50000 KM</td>\n",
       "      <td>DIESEL</td>\n",
       "      <td>MANUAL</td>\n",
       "      <td>Second</td>\n",
       "      <td>3,00,000</td>\n",
       "    </tr>\n",
       "    <tr>\n",
       "      <th>4</th>\n",
       "      <td>4</td>\n",
       "      <td>Maharashtra</td>\n",
       "      <td>Hyundai I10</td>\n",
       "      <td>2007-2010 Magna 1.2</td>\n",
       "      <td>2008</td>\n",
       "      <td>70000 KM</td>\n",
       "      <td>PETROL</td>\n",
       "      <td>MANUAL</td>\n",
       "      <td>Third</td>\n",
       "      <td>1,35,000</td>\n",
       "    </tr>\n",
       "  </tbody>\n",
       "</table>\n",
       "</div>"
      ],
      "text/plain": [
       "   Unnamed: 0     Location           Brand                      Model  \\\n",
       "0           0  Maharashtra   Nissan Sunny                          XV   \n",
       "1           1  Maharashtra   Skoda Superb                         NaN   \n",
       "2           2  Maharashtra         Bmw X5   2007-2013 xDrive 35i 3.0L   \n",
       "3           3  Maharashtra  Mahindra Jeep                      Others   \n",
       "4           4  Maharashtra    Hyundai I10         2007-2010 Magna 1.2   \n",
       "\n",
       "  Mnf_year  Driven_kms    Fuel       Gear  Owners   Car_Price  \n",
       "0     2012  44584.0 KM  DIESEL     MANUAL     2nd    3,75,000  \n",
       "1     2016  27324.0 KM  PETROL  AUTOMATIC      --   13,80,000  \n",
       "2     2011   90,000 KM  DIESEL  AUTOMATIC     2nd   17,50,000  \n",
       "3     2000    50000 KM  DIESEL     MANUAL  Second    3,00,000  \n",
       "4     2008    70000 KM  PETROL     MANUAL   Third    1,35,000  "
      ]
     },
     "execution_count": 286,
     "metadata": {},
     "output_type": "execute_result"
    }
   ],
   "source": [
    "df=pd.read_excel(\"car_data.xlsx\")\n",
    "df.head()"
   ]
  },
  {
   "cell_type": "code",
   "execution_count": 287,
   "id": "d2d4c855",
   "metadata": {},
   "outputs": [
    {
     "data": {
      "text/plain": [
       "(5009, 10)"
      ]
     },
     "execution_count": 287,
     "metadata": {},
     "output_type": "execute_result"
    }
   ],
   "source": [
    "df.shape"
   ]
  },
  {
   "cell_type": "code",
   "execution_count": 288,
   "id": "1afeb104",
   "metadata": {},
   "outputs": [
    {
     "data": {
      "text/plain": [
       "Unnamed: 0      0\n",
       "Location        0\n",
       "Brand           0\n",
       "Model         312\n",
       "Mnf_year        0\n",
       "Driven_kms      0\n",
       "Fuel            0\n",
       "Gear            0\n",
       "Owners          0\n",
       "Car_Price       0\n",
       "dtype: int64"
      ]
     },
     "execution_count": 288,
     "metadata": {},
     "output_type": "execute_result"
    }
   ],
   "source": [
    "df.isnull().sum()"
   ]
  },
  {
   "cell_type": "code",
   "execution_count": 289,
   "id": "d71f6311",
   "metadata": {},
   "outputs": [
    {
     "data": {
      "text/plain": [
       "Unnamed: 0      0\n",
       "Location        0\n",
       "Brand           0\n",
       "Model           0\n",
       "Mnf_year        0\n",
       "Driven_kms      0\n",
       "Fuel           37\n",
       "Gear          177\n",
       "Owners        205\n",
       "Car_Price       0\n",
       "dtype: int64"
      ]
     },
     "execution_count": 289,
     "metadata": {},
     "output_type": "execute_result"
    }
   ],
   "source": [
    "df.isin(['--']).sum()"
   ]
  },
  {
   "cell_type": "code",
   "execution_count": 290,
   "id": "729cb905",
   "metadata": {},
   "outputs": [
    {
     "data": {
      "text/plain": [
       "Unnamed: 0      0\n",
       "Location        0\n",
       "Brand         107\n",
       "Model         107\n",
       "Mnf_year      107\n",
       "Driven_kms    107\n",
       "Fuel          107\n",
       "Gear          107\n",
       "Owners        107\n",
       "Car_Price     107\n",
       "dtype: int64"
      ]
     },
     "execution_count": 290,
     "metadata": {},
     "output_type": "execute_result"
    }
   ],
   "source": [
    "df.isin(['-']).sum()"
   ]
  },
  {
   "cell_type": "code",
   "execution_count": 291,
   "id": "af5c9d51",
   "metadata": {},
   "outputs": [
    {
     "data": {
      "text/plain": [
       "Unnamed: 0     int64\n",
       "Location      object\n",
       "Brand         object\n",
       "Model         object\n",
       "Mnf_year      object\n",
       "Driven_kms    object\n",
       "Fuel          object\n",
       "Gear          object\n",
       "Owners        object\n",
       "Car_Price     object\n",
       "dtype: object"
      ]
     },
     "execution_count": 291,
     "metadata": {},
     "output_type": "execute_result"
    }
   ],
   "source": [
    "df.dtypes"
   ]
  },
  {
   "cell_type": "code",
   "execution_count": 292,
   "id": "7d5875a3",
   "metadata": {},
   "outputs": [],
   "source": [
    "a=df.describe(include=['O']).columns"
   ]
  },
  {
   "cell_type": "code",
   "execution_count": 293,
   "id": "e2868bed",
   "metadata": {},
   "outputs": [
    {
     "name": "stdout",
     "output_type": "stream",
     "text": [
      "Location\n",
      "Telangana        513\n",
      "Karnataka        506\n",
      "Tamil Nadu       506\n",
      "Maharashtra      500\n",
      "New Delhi        499\n",
      "Haryana          499\n",
      "Punjab           498\n",
      "Uttar Pradesh    498\n",
      "Kerala           497\n",
      "Gujrat           493\n",
      "Name: Location, dtype: int64\n",
      "\n",
      "\n",
      "Brand\n",
      "Maruti Suzuki Swift           245\n",
      "Maruti Suzuki Swift Dzire     187\n",
      "Maruti Suzuki Wagon R         140\n",
      "Hyundai I10                   134\n",
      "Honda City                    133\n",
      "                             ... \n",
      "Jeep Grand Cherokee             1\n",
      "Honda Others                    1\n",
      "Mercedes-Benz B Class           1\n",
      "Volkswagen Taigun               1\n",
      "Fiat Linea Classic              1\n",
      "Name: Brand, Length: 331, dtype: int64\n",
      "\n",
      "\n",
      "Model\n",
      "Others                   179\n",
      "VXI                      134\n",
      "VDI                      120\n",
      "-                        107\n",
      "LXI                       92\n",
      "                        ... \n",
      "1.2P Titanium Plus MT      1\n",
      "S8 7 Seater                1\n",
      "230 K                      1\n",
      "325i Sedan                 1\n",
      "LXI Opt                    1\n",
      "Name: Model, Length: 1697, dtype: int64\n",
      "\n",
      "\n",
      "Mnf_year\n",
      "2012      448\n",
      "2013      437\n",
      "2016      408\n",
      "2014      404\n",
      "2015      386\n",
      "2011      376\n",
      "2017      371\n",
      "2018      369\n",
      "2010      321\n",
      "2009      223\n",
      "2019      215\n",
      "2007      178\n",
      "2008      171\n",
      "2020      129\n",
      "-         107\n",
      "2006      105\n",
      "2021       87\n",
      "2005       61\n",
      "2004       40\n",
      "2003       31\n",
      "2002       26\n",
      "2000       21\n",
      "1998       15\n",
      "2001       14\n",
      "1999       13\n",
      "1997        8\n",
      "2015.0      6\n",
      "1996        6\n",
      "2012.0      4\n",
      "2016.0      4\n",
      "1994        4\n",
      "2017.0      3\n",
      "2014.0      3\n",
      "1995        3\n",
      "2013.0      2\n",
      "2011.0      2\n",
      "1992        1\n",
      "1988        1\n",
      "1905        1\n",
      "1993        1\n",
      "1954        1\n",
      "1990        1\n",
      "1981        1\n",
      "1991        1\n",
      "Name: Mnf_year, dtype: int64\n",
      "\n",
      "\n",
      "Driven_kms\n",
      "-             107\n",
      "90000 KM       98\n",
      "120000 KM      81\n",
      "65000.0 KM     72\n",
      "75000.0 KM     60\n",
      "             ... \n",
      "107,263 KM      1\n",
      "25,800 KM       1\n",
      "70,238 KM       1\n",
      "57558.0 KM      1\n",
      "41355.0 KM      1\n",
      "Name: Driven_kms, Length: 1460, dtype: int64\n",
      "\n",
      "\n",
      "Fuel\n",
      "DIESEL                           2547\n",
      "PETROL                           2018\n",
      "CNG & HYBRIDS                     195\n",
      "-                                 107\n",
      "CNG                                67\n",
      "--                                 37\n",
      "LPG                                31\n",
      "ELECTRIC                            6\n",
      "PETROL/COMPRESSED NATURAL GAS       1\n",
      "Name: Fuel, dtype: int64\n",
      "\n",
      "\n",
      "Gear\n",
      "MANUAL       3784\n",
      "AUTOMATIC     941\n",
      "--            177\n",
      "-             107\n",
      "Name: Gear, dtype: int64\n",
      "\n",
      "\n",
      "Owners\n",
      "1st       2556\n",
      "2nd       1274\n",
      "3rd        316\n",
      "--         205\n",
      "First      204\n",
      "Second     157\n",
      "-          107\n",
      "Third       65\n",
      "4th         60\n",
      "Fourth      36\n",
      "4+          29\n",
      "Name: Owners, dtype: int64\n",
      "\n",
      "\n",
      "Car_Price\n",
      "-             107\n",
      " 3,25,000      83\n",
      " 3,50,000      81\n",
      " 2,50,000      65\n",
      " 4,50,000      64\n",
      "             ... \n",
      " 11,15,000      1\n",
      " 13,99,000      1\n",
      " 3,61,000       1\n",
      " 6,28,900       1\n",
      " 45,50,000      1\n",
      "Name: Car_Price, Length: 820, dtype: int64\n",
      "\n",
      "\n"
     ]
    }
   ],
   "source": [
    "for i in a:\n",
    "    print(i)\n",
    "    print(df[i].value_counts())\n",
    "    print('\\n')"
   ]
  },
  {
   "cell_type": "code",
   "execution_count": 294,
   "id": "853fb789",
   "metadata": {},
   "outputs": [
    {
     "data": {
      "text/html": [
       "<div>\n",
       "<style scoped>\n",
       "    .dataframe tbody tr th:only-of-type {\n",
       "        vertical-align: middle;\n",
       "    }\n",
       "\n",
       "    .dataframe tbody tr th {\n",
       "        vertical-align: top;\n",
       "    }\n",
       "\n",
       "    .dataframe thead th {\n",
       "        text-align: right;\n",
       "    }\n",
       "</style>\n",
       "<table border=\"1\" class=\"dataframe\">\n",
       "  <thead>\n",
       "    <tr style=\"text-align: right;\">\n",
       "      <th></th>\n",
       "      <th>Unnamed: 0</th>\n",
       "      <th>Location</th>\n",
       "      <th>Brand</th>\n",
       "      <th>Model</th>\n",
       "      <th>Mnf_year</th>\n",
       "      <th>Driven_kms</th>\n",
       "      <th>Fuel</th>\n",
       "      <th>Gear</th>\n",
       "      <th>Owners</th>\n",
       "      <th>Car_Price</th>\n",
       "    </tr>\n",
       "  </thead>\n",
       "  <tbody>\n",
       "    <tr>\n",
       "      <th>0</th>\n",
       "      <td>0</td>\n",
       "      <td>Maharashtra</td>\n",
       "      <td>Nissan Sunny</td>\n",
       "      <td>XV</td>\n",
       "      <td>2012</td>\n",
       "      <td>44584.0 KM</td>\n",
       "      <td>DIESEL</td>\n",
       "      <td>MANUAL</td>\n",
       "      <td>2nd</td>\n",
       "      <td>3,75,000</td>\n",
       "    </tr>\n",
       "    <tr>\n",
       "      <th>1</th>\n",
       "      <td>1</td>\n",
       "      <td>Maharashtra</td>\n",
       "      <td>Skoda Superb</td>\n",
       "      <td>NaN</td>\n",
       "      <td>2016</td>\n",
       "      <td>27324.0 KM</td>\n",
       "      <td>PETROL</td>\n",
       "      <td>AUTOMATIC</td>\n",
       "      <td>--</td>\n",
       "      <td>13,80,000</td>\n",
       "    </tr>\n",
       "    <tr>\n",
       "      <th>2</th>\n",
       "      <td>2</td>\n",
       "      <td>Maharashtra</td>\n",
       "      <td>Bmw X5</td>\n",
       "      <td>2007-2013 xDrive 35i 3.0L</td>\n",
       "      <td>2011</td>\n",
       "      <td>90000 KM</td>\n",
       "      <td>DIESEL</td>\n",
       "      <td>AUTOMATIC</td>\n",
       "      <td>2nd</td>\n",
       "      <td>17,50,000</td>\n",
       "    </tr>\n",
       "    <tr>\n",
       "      <th>3</th>\n",
       "      <td>3</td>\n",
       "      <td>Maharashtra</td>\n",
       "      <td>Mahindra Jeep</td>\n",
       "      <td>Others</td>\n",
       "      <td>2000</td>\n",
       "      <td>50000 KM</td>\n",
       "      <td>DIESEL</td>\n",
       "      <td>MANUAL</td>\n",
       "      <td>Second</td>\n",
       "      <td>3,00,000</td>\n",
       "    </tr>\n",
       "    <tr>\n",
       "      <th>4</th>\n",
       "      <td>4</td>\n",
       "      <td>Maharashtra</td>\n",
       "      <td>Hyundai I10</td>\n",
       "      <td>2007-2010 Magna 1.2</td>\n",
       "      <td>2008</td>\n",
       "      <td>70000 KM</td>\n",
       "      <td>PETROL</td>\n",
       "      <td>MANUAL</td>\n",
       "      <td>Third</td>\n",
       "      <td>1,35,000</td>\n",
       "    </tr>\n",
       "  </tbody>\n",
       "</table>\n",
       "</div>"
      ],
      "text/plain": [
       "   Unnamed: 0     Location           Brand                      Model  \\\n",
       "0           0  Maharashtra   Nissan Sunny                          XV   \n",
       "1           1  Maharashtra   Skoda Superb                         NaN   \n",
       "2           2  Maharashtra         Bmw X5   2007-2013 xDrive 35i 3.0L   \n",
       "3           3  Maharashtra  Mahindra Jeep                      Others   \n",
       "4           4  Maharashtra    Hyundai I10         2007-2010 Magna 1.2   \n",
       "\n",
       "  Mnf_year  Driven_kms    Fuel       Gear  Owners   Car_Price  \n",
       "0     2012  44584.0 KM  DIESEL     MANUAL     2nd    3,75,000  \n",
       "1     2016  27324.0 KM  PETROL  AUTOMATIC      --   13,80,000  \n",
       "2     2011    90000 KM  DIESEL  AUTOMATIC     2nd   17,50,000  \n",
       "3     2000    50000 KM  DIESEL     MANUAL  Second    3,00,000  \n",
       "4     2008    70000 KM  PETROL     MANUAL   Third    1,35,000  "
      ]
     },
     "execution_count": 294,
     "metadata": {},
     "output_type": "execute_result"
    }
   ],
   "source": [
    "df['Driven_kms']=df['Driven_kms'].apply(lambda x: x.replace(',','') if x!='-' else '-')\n",
    "df.head()"
   ]
  },
  {
   "cell_type": "code",
   "execution_count": 295,
   "id": "f0bbe7ec",
   "metadata": {},
   "outputs": [
    {
     "data": {
      "text/html": [
       "<div>\n",
       "<style scoped>\n",
       "    .dataframe tbody tr th:only-of-type {\n",
       "        vertical-align: middle;\n",
       "    }\n",
       "\n",
       "    .dataframe tbody tr th {\n",
       "        vertical-align: top;\n",
       "    }\n",
       "\n",
       "    .dataframe thead th {\n",
       "        text-align: right;\n",
       "    }\n",
       "</style>\n",
       "<table border=\"1\" class=\"dataframe\">\n",
       "  <thead>\n",
       "    <tr style=\"text-align: right;\">\n",
       "      <th></th>\n",
       "      <th>Unnamed: 0</th>\n",
       "      <th>Location</th>\n",
       "      <th>Brand</th>\n",
       "      <th>Model</th>\n",
       "      <th>Mnf_year</th>\n",
       "      <th>Driven_kms</th>\n",
       "      <th>Fuel</th>\n",
       "      <th>Gear</th>\n",
       "      <th>Owners</th>\n",
       "      <th>Car_Price</th>\n",
       "    </tr>\n",
       "  </thead>\n",
       "  <tbody>\n",
       "    <tr>\n",
       "      <th>0</th>\n",
       "      <td>0</td>\n",
       "      <td>Maharashtra</td>\n",
       "      <td>Nissan Sunny</td>\n",
       "      <td>XV</td>\n",
       "      <td>2012</td>\n",
       "      <td>44584.0</td>\n",
       "      <td>DIESEL</td>\n",
       "      <td>MANUAL</td>\n",
       "      <td>2nd</td>\n",
       "      <td>3,75,000</td>\n",
       "    </tr>\n",
       "    <tr>\n",
       "      <th>1</th>\n",
       "      <td>1</td>\n",
       "      <td>Maharashtra</td>\n",
       "      <td>Skoda Superb</td>\n",
       "      <td>NaN</td>\n",
       "      <td>2016</td>\n",
       "      <td>27324.0</td>\n",
       "      <td>PETROL</td>\n",
       "      <td>AUTOMATIC</td>\n",
       "      <td>--</td>\n",
       "      <td>13,80,000</td>\n",
       "    </tr>\n",
       "    <tr>\n",
       "      <th>2</th>\n",
       "      <td>2</td>\n",
       "      <td>Maharashtra</td>\n",
       "      <td>Bmw X5</td>\n",
       "      <td>2007-2013 xDrive 35i 3.0L</td>\n",
       "      <td>2011</td>\n",
       "      <td>90000</td>\n",
       "      <td>DIESEL</td>\n",
       "      <td>AUTOMATIC</td>\n",
       "      <td>2nd</td>\n",
       "      <td>17,50,000</td>\n",
       "    </tr>\n",
       "    <tr>\n",
       "      <th>3</th>\n",
       "      <td>3</td>\n",
       "      <td>Maharashtra</td>\n",
       "      <td>Mahindra Jeep</td>\n",
       "      <td>Others</td>\n",
       "      <td>2000</td>\n",
       "      <td>50000</td>\n",
       "      <td>DIESEL</td>\n",
       "      <td>MANUAL</td>\n",
       "      <td>Second</td>\n",
       "      <td>3,00,000</td>\n",
       "    </tr>\n",
       "    <tr>\n",
       "      <th>4</th>\n",
       "      <td>4</td>\n",
       "      <td>Maharashtra</td>\n",
       "      <td>Hyundai I10</td>\n",
       "      <td>2007-2010 Magna 1.2</td>\n",
       "      <td>2008</td>\n",
       "      <td>70000</td>\n",
       "      <td>PETROL</td>\n",
       "      <td>MANUAL</td>\n",
       "      <td>Third</td>\n",
       "      <td>1,35,000</td>\n",
       "    </tr>\n",
       "  </tbody>\n",
       "</table>\n",
       "</div>"
      ],
      "text/plain": [
       "   Unnamed: 0     Location           Brand                      Model  \\\n",
       "0           0  Maharashtra   Nissan Sunny                          XV   \n",
       "1           1  Maharashtra   Skoda Superb                         NaN   \n",
       "2           2  Maharashtra         Bmw X5   2007-2013 xDrive 35i 3.0L   \n",
       "3           3  Maharashtra  Mahindra Jeep                      Others   \n",
       "4           4  Maharashtra    Hyundai I10         2007-2010 Magna 1.2   \n",
       "\n",
       "  Mnf_year Driven_kms    Fuel       Gear  Owners   Car_Price  \n",
       "0     2012    44584.0  DIESEL     MANUAL     2nd    3,75,000  \n",
       "1     2016    27324.0  PETROL  AUTOMATIC      --   13,80,000  \n",
       "2     2011      90000  DIESEL  AUTOMATIC     2nd   17,50,000  \n",
       "3     2000      50000  DIESEL     MANUAL  Second    3,00,000  \n",
       "4     2008      70000  PETROL     MANUAL   Third    1,35,000  "
      ]
     },
     "execution_count": 295,
     "metadata": {},
     "output_type": "execute_result"
    }
   ],
   "source": [
    "#Removing km word from km_driven\n",
    "df['Driven_kms']=df['Driven_kms'].apply(lambda x: x.split(' ')[0] if x!='-' else 0)\n",
    "df.head()  #Checking the dataset after removing"
   ]
  },
  {
   "cell_type": "code",
   "execution_count": 296,
   "id": "53e373dd",
   "metadata": {},
   "outputs": [],
   "source": [
    "df['Driven_kms']=df['Driven_kms'].astype(float)"
   ]
  },
  {
   "cell_type": "code",
   "execution_count": 297,
   "id": "89073023",
   "metadata": {},
   "outputs": [
    {
     "data": {
      "text/html": [
       "<div>\n",
       "<style scoped>\n",
       "    .dataframe tbody tr th:only-of-type {\n",
       "        vertical-align: middle;\n",
       "    }\n",
       "\n",
       "    .dataframe tbody tr th {\n",
       "        vertical-align: top;\n",
       "    }\n",
       "\n",
       "    .dataframe thead th {\n",
       "        text-align: right;\n",
       "    }\n",
       "</style>\n",
       "<table border=\"1\" class=\"dataframe\">\n",
       "  <thead>\n",
       "    <tr style=\"text-align: right;\">\n",
       "      <th></th>\n",
       "      <th>Unnamed: 0</th>\n",
       "      <th>Location</th>\n",
       "      <th>Brand</th>\n",
       "      <th>Model</th>\n",
       "      <th>Mnf_year</th>\n",
       "      <th>Driven_kms</th>\n",
       "      <th>Fuel</th>\n",
       "      <th>Gear</th>\n",
       "      <th>Owners</th>\n",
       "      <th>Car_Price</th>\n",
       "    </tr>\n",
       "  </thead>\n",
       "  <tbody>\n",
       "    <tr>\n",
       "      <th>0</th>\n",
       "      <td>0</td>\n",
       "      <td>Maharashtra</td>\n",
       "      <td>Nissan Sunny</td>\n",
       "      <td>XV</td>\n",
       "      <td>2012</td>\n",
       "      <td>44584.0</td>\n",
       "      <td>DIESEL</td>\n",
       "      <td>MANUAL</td>\n",
       "      <td>2nd</td>\n",
       "      <td>3,75,000</td>\n",
       "    </tr>\n",
       "    <tr>\n",
       "      <th>1</th>\n",
       "      <td>1</td>\n",
       "      <td>Maharashtra</td>\n",
       "      <td>Skoda Superb</td>\n",
       "      <td>NaN</td>\n",
       "      <td>2016</td>\n",
       "      <td>27324.0</td>\n",
       "      <td>PETROL</td>\n",
       "      <td>AUTOMATIC</td>\n",
       "      <td>--</td>\n",
       "      <td>13,80,000</td>\n",
       "    </tr>\n",
       "    <tr>\n",
       "      <th>2</th>\n",
       "      <td>2</td>\n",
       "      <td>Maharashtra</td>\n",
       "      <td>Bmw X5</td>\n",
       "      <td>2007-2013 xDrive 35i 3.0L</td>\n",
       "      <td>2011</td>\n",
       "      <td>90000.0</td>\n",
       "      <td>DIESEL</td>\n",
       "      <td>AUTOMATIC</td>\n",
       "      <td>2nd</td>\n",
       "      <td>17,50,000</td>\n",
       "    </tr>\n",
       "    <tr>\n",
       "      <th>3</th>\n",
       "      <td>3</td>\n",
       "      <td>Maharashtra</td>\n",
       "      <td>Mahindra Jeep</td>\n",
       "      <td>Others</td>\n",
       "      <td>2000</td>\n",
       "      <td>50000.0</td>\n",
       "      <td>DIESEL</td>\n",
       "      <td>MANUAL</td>\n",
       "      <td>Second</td>\n",
       "      <td>3,00,000</td>\n",
       "    </tr>\n",
       "    <tr>\n",
       "      <th>4</th>\n",
       "      <td>4</td>\n",
       "      <td>Maharashtra</td>\n",
       "      <td>Hyundai I10</td>\n",
       "      <td>2007-2010 Magna 1.2</td>\n",
       "      <td>2008</td>\n",
       "      <td>70000.0</td>\n",
       "      <td>PETROL</td>\n",
       "      <td>MANUAL</td>\n",
       "      <td>Third</td>\n",
       "      <td>1,35,000</td>\n",
       "    </tr>\n",
       "  </tbody>\n",
       "</table>\n",
       "</div>"
      ],
      "text/plain": [
       "   Unnamed: 0     Location           Brand                      Model  \\\n",
       "0           0  Maharashtra   Nissan Sunny                          XV   \n",
       "1           1  Maharashtra   Skoda Superb                         NaN   \n",
       "2           2  Maharashtra         Bmw X5   2007-2013 xDrive 35i 3.0L   \n",
       "3           3  Maharashtra  Mahindra Jeep                      Others   \n",
       "4           4  Maharashtra    Hyundai I10         2007-2010 Magna 1.2   \n",
       "\n",
       "  Mnf_year  Driven_kms    Fuel       Gear  Owners   Car_Price  \n",
       "0     2012     44584.0  DIESEL     MANUAL     2nd    3,75,000  \n",
       "1     2016     27324.0  PETROL  AUTOMATIC      --   13,80,000  \n",
       "2     2011     90000.0  DIESEL  AUTOMATIC     2nd   17,50,000  \n",
       "3     2000     50000.0  DIESEL     MANUAL  Second    3,00,000  \n",
       "4     2008     70000.0  PETROL     MANUAL   Third    1,35,000  "
      ]
     },
     "execution_count": 297,
     "metadata": {},
     "output_type": "execute_result"
    }
   ],
   "source": [
    "df.head()"
   ]
  },
  {
   "cell_type": "code",
   "execution_count": 298,
   "id": "6dc65eba",
   "metadata": {},
   "outputs": [],
   "source": [
    "df['Driven_kms']=df['Driven_kms'].replace('-','90000.0')"
   ]
  },
  {
   "cell_type": "code",
   "execution_count": 299,
   "id": "5288a748",
   "metadata": {},
   "outputs": [
    {
     "data": {
      "text/html": [
       "<div>\n",
       "<style scoped>\n",
       "    .dataframe tbody tr th:only-of-type {\n",
       "        vertical-align: middle;\n",
       "    }\n",
       "\n",
       "    .dataframe tbody tr th {\n",
       "        vertical-align: top;\n",
       "    }\n",
       "\n",
       "    .dataframe thead th {\n",
       "        text-align: right;\n",
       "    }\n",
       "</style>\n",
       "<table border=\"1\" class=\"dataframe\">\n",
       "  <thead>\n",
       "    <tr style=\"text-align: right;\">\n",
       "      <th></th>\n",
       "      <th>Unnamed: 0</th>\n",
       "      <th>Location</th>\n",
       "      <th>Brand</th>\n",
       "      <th>Model</th>\n",
       "      <th>Mnf_year</th>\n",
       "      <th>Driven_kms</th>\n",
       "      <th>Fuel</th>\n",
       "      <th>Gear</th>\n",
       "      <th>Owners</th>\n",
       "      <th>Car_Price</th>\n",
       "    </tr>\n",
       "  </thead>\n",
       "  <tbody>\n",
       "    <tr>\n",
       "      <th>0</th>\n",
       "      <td>0</td>\n",
       "      <td>Maharashtra</td>\n",
       "      <td>Nissan Sunny</td>\n",
       "      <td>XV</td>\n",
       "      <td>2012</td>\n",
       "      <td>44584.0</td>\n",
       "      <td>DIESEL</td>\n",
       "      <td>MANUAL</td>\n",
       "      <td>2nd</td>\n",
       "      <td>375000</td>\n",
       "    </tr>\n",
       "    <tr>\n",
       "      <th>1</th>\n",
       "      <td>1</td>\n",
       "      <td>Maharashtra</td>\n",
       "      <td>Skoda Superb</td>\n",
       "      <td>NaN</td>\n",
       "      <td>2016</td>\n",
       "      <td>27324.0</td>\n",
       "      <td>PETROL</td>\n",
       "      <td>AUTOMATIC</td>\n",
       "      <td>--</td>\n",
       "      <td>1380000</td>\n",
       "    </tr>\n",
       "    <tr>\n",
       "      <th>2</th>\n",
       "      <td>2</td>\n",
       "      <td>Maharashtra</td>\n",
       "      <td>Bmw X5</td>\n",
       "      <td>2007-2013 xDrive 35i 3.0L</td>\n",
       "      <td>2011</td>\n",
       "      <td>90000.0</td>\n",
       "      <td>DIESEL</td>\n",
       "      <td>AUTOMATIC</td>\n",
       "      <td>2nd</td>\n",
       "      <td>1750000</td>\n",
       "    </tr>\n",
       "    <tr>\n",
       "      <th>3</th>\n",
       "      <td>3</td>\n",
       "      <td>Maharashtra</td>\n",
       "      <td>Mahindra Jeep</td>\n",
       "      <td>Others</td>\n",
       "      <td>2000</td>\n",
       "      <td>50000.0</td>\n",
       "      <td>DIESEL</td>\n",
       "      <td>MANUAL</td>\n",
       "      <td>Second</td>\n",
       "      <td>300000</td>\n",
       "    </tr>\n",
       "    <tr>\n",
       "      <th>4</th>\n",
       "      <td>4</td>\n",
       "      <td>Maharashtra</td>\n",
       "      <td>Hyundai I10</td>\n",
       "      <td>2007-2010 Magna 1.2</td>\n",
       "      <td>2008</td>\n",
       "      <td>70000.0</td>\n",
       "      <td>PETROL</td>\n",
       "      <td>MANUAL</td>\n",
       "      <td>Third</td>\n",
       "      <td>135000</td>\n",
       "    </tr>\n",
       "  </tbody>\n",
       "</table>\n",
       "</div>"
      ],
      "text/plain": [
       "   Unnamed: 0     Location           Brand                      Model  \\\n",
       "0           0  Maharashtra   Nissan Sunny                          XV   \n",
       "1           1  Maharashtra   Skoda Superb                         NaN   \n",
       "2           2  Maharashtra         Bmw X5   2007-2013 xDrive 35i 3.0L   \n",
       "3           3  Maharashtra  Mahindra Jeep                      Others   \n",
       "4           4  Maharashtra    Hyundai I10         2007-2010 Magna 1.2   \n",
       "\n",
       "  Mnf_year  Driven_kms    Fuel       Gear  Owners Car_Price  \n",
       "0     2012     44584.0  DIESEL     MANUAL     2nd    375000  \n",
       "1     2016     27324.0  PETROL  AUTOMATIC      --   1380000  \n",
       "2     2011     90000.0  DIESEL  AUTOMATIC     2nd   1750000  \n",
       "3     2000     50000.0  DIESEL     MANUAL  Second    300000  \n",
       "4     2008     70000.0  PETROL     MANUAL   Third    135000  "
      ]
     },
     "execution_count": 299,
     "metadata": {},
     "output_type": "execute_result"
    }
   ],
   "source": [
    "df['Car_Price']=df['Car_Price'].apply(lambda x: x.replace(',','') if x!='-' else '-')\n",
    "df.head()"
   ]
  },
  {
   "cell_type": "code",
   "execution_count": 300,
   "id": "3eab1729",
   "metadata": {},
   "outputs": [],
   "source": [
    "df['Car_Price']=df['Car_Price'].replace('-',' 325000')"
   ]
  },
  {
   "cell_type": "code",
   "execution_count": 301,
   "id": "55763a54",
   "metadata": {},
   "outputs": [],
   "source": [
    "df['Car_Price']=df['Car_Price'].str.strip()"
   ]
  },
  {
   "cell_type": "code",
   "execution_count": 302,
   "id": "99de243b",
   "metadata": {},
   "outputs": [],
   "source": [
    "df['Car_Price']=df['Car_Price'].astype(float)"
   ]
  },
  {
   "cell_type": "code",
   "execution_count": 303,
   "id": "96be67d5",
   "metadata": {},
   "outputs": [
    {
     "data": {
      "text/html": [
       "<div>\n",
       "<style scoped>\n",
       "    .dataframe tbody tr th:only-of-type {\n",
       "        vertical-align: middle;\n",
       "    }\n",
       "\n",
       "    .dataframe tbody tr th {\n",
       "        vertical-align: top;\n",
       "    }\n",
       "\n",
       "    .dataframe thead th {\n",
       "        text-align: right;\n",
       "    }\n",
       "</style>\n",
       "<table border=\"1\" class=\"dataframe\">\n",
       "  <thead>\n",
       "    <tr style=\"text-align: right;\">\n",
       "      <th></th>\n",
       "      <th>Unnamed: 0</th>\n",
       "      <th>Location</th>\n",
       "      <th>Brand</th>\n",
       "      <th>Model</th>\n",
       "      <th>Mnf_year</th>\n",
       "      <th>Driven_kms</th>\n",
       "      <th>Fuel</th>\n",
       "      <th>Gear</th>\n",
       "      <th>Owners</th>\n",
       "      <th>Car_Price</th>\n",
       "    </tr>\n",
       "  </thead>\n",
       "  <tbody>\n",
       "    <tr>\n",
       "      <th>0</th>\n",
       "      <td>0</td>\n",
       "      <td>Maharashtra</td>\n",
       "      <td>Nissan Sunny</td>\n",
       "      <td>XV</td>\n",
       "      <td>2012</td>\n",
       "      <td>44584.0</td>\n",
       "      <td>DIESEL</td>\n",
       "      <td>MANUAL</td>\n",
       "      <td>2nd</td>\n",
       "      <td>375000.0</td>\n",
       "    </tr>\n",
       "    <tr>\n",
       "      <th>1</th>\n",
       "      <td>1</td>\n",
       "      <td>Maharashtra</td>\n",
       "      <td>Skoda Superb</td>\n",
       "      <td>NaN</td>\n",
       "      <td>2016</td>\n",
       "      <td>27324.0</td>\n",
       "      <td>PETROL</td>\n",
       "      <td>AUTOMATIC</td>\n",
       "      <td>--</td>\n",
       "      <td>1380000.0</td>\n",
       "    </tr>\n",
       "    <tr>\n",
       "      <th>2</th>\n",
       "      <td>2</td>\n",
       "      <td>Maharashtra</td>\n",
       "      <td>Bmw X5</td>\n",
       "      <td>2007-2013 xDrive 35i 3.0L</td>\n",
       "      <td>2011</td>\n",
       "      <td>90000.0</td>\n",
       "      <td>DIESEL</td>\n",
       "      <td>AUTOMATIC</td>\n",
       "      <td>2nd</td>\n",
       "      <td>1750000.0</td>\n",
       "    </tr>\n",
       "    <tr>\n",
       "      <th>3</th>\n",
       "      <td>3</td>\n",
       "      <td>Maharashtra</td>\n",
       "      <td>Mahindra Jeep</td>\n",
       "      <td>Others</td>\n",
       "      <td>2000</td>\n",
       "      <td>50000.0</td>\n",
       "      <td>DIESEL</td>\n",
       "      <td>MANUAL</td>\n",
       "      <td>Second</td>\n",
       "      <td>300000.0</td>\n",
       "    </tr>\n",
       "    <tr>\n",
       "      <th>4</th>\n",
       "      <td>4</td>\n",
       "      <td>Maharashtra</td>\n",
       "      <td>Hyundai I10</td>\n",
       "      <td>2007-2010 Magna 1.2</td>\n",
       "      <td>2008</td>\n",
       "      <td>70000.0</td>\n",
       "      <td>PETROL</td>\n",
       "      <td>MANUAL</td>\n",
       "      <td>Third</td>\n",
       "      <td>135000.0</td>\n",
       "    </tr>\n",
       "  </tbody>\n",
       "</table>\n",
       "</div>"
      ],
      "text/plain": [
       "   Unnamed: 0     Location           Brand                      Model  \\\n",
       "0           0  Maharashtra   Nissan Sunny                          XV   \n",
       "1           1  Maharashtra   Skoda Superb                         NaN   \n",
       "2           2  Maharashtra         Bmw X5   2007-2013 xDrive 35i 3.0L   \n",
       "3           3  Maharashtra  Mahindra Jeep                      Others   \n",
       "4           4  Maharashtra    Hyundai I10         2007-2010 Magna 1.2   \n",
       "\n",
       "  Mnf_year  Driven_kms    Fuel       Gear  Owners  Car_Price  \n",
       "0     2012     44584.0  DIESEL     MANUAL     2nd   375000.0  \n",
       "1     2016     27324.0  PETROL  AUTOMATIC      --  1380000.0  \n",
       "2     2011     90000.0  DIESEL  AUTOMATIC     2nd  1750000.0  \n",
       "3     2000     50000.0  DIESEL     MANUAL  Second   300000.0  \n",
       "4     2008     70000.0  PETROL     MANUAL   Third   135000.0  "
      ]
     },
     "execution_count": 303,
     "metadata": {},
     "output_type": "execute_result"
    }
   ],
   "source": [
    "df.head()"
   ]
  },
  {
   "cell_type": "code",
   "execution_count": 304,
   "id": "5f82ce68",
   "metadata": {},
   "outputs": [
    {
     "data": {
      "text/plain": [
       "array(['2nd', '--', 'Second', 'Third', '1st', '3rd', 'First', 'Fourth',\n",
       "       '4th', '-', '4+'], dtype=object)"
      ]
     },
     "execution_count": 304,
     "metadata": {},
     "output_type": "execute_result"
    }
   ],
   "source": [
    "df['Owners'].unique()"
   ]
  },
  {
   "cell_type": "code",
   "execution_count": 305,
   "id": "6e065364",
   "metadata": {},
   "outputs": [],
   "source": [
    "df['Owners']=df['Owners'].replace('Second','2nd')"
   ]
  },
  {
   "cell_type": "code",
   "execution_count": 306,
   "id": "f518b950",
   "metadata": {},
   "outputs": [],
   "source": [
    "df['Owners']=df['Owners'].replace('First','1st')"
   ]
  },
  {
   "cell_type": "code",
   "execution_count": 307,
   "id": "322509b8",
   "metadata": {},
   "outputs": [],
   "source": [
    "df['Owners']=df['Owners'].replace('Third','3rd')"
   ]
  },
  {
   "cell_type": "code",
   "execution_count": 308,
   "id": "d06a11b2",
   "metadata": {},
   "outputs": [],
   "source": [
    "df['Owners']=df['Owners'].replace('Fourth','4th')"
   ]
  },
  {
   "cell_type": "code",
   "execution_count": 309,
   "id": "0c27bb11",
   "metadata": {},
   "outputs": [],
   "source": [
    "df['Owners']=df['Owners'].replace('--','-')"
   ]
  },
  {
   "cell_type": "code",
   "execution_count": 310,
   "id": "856e471e",
   "metadata": {},
   "outputs": [
    {
     "data": {
      "text/plain": [
       "array(['2nd', '-', '3rd', '1st', '4th', '4+'], dtype=object)"
      ]
     },
     "execution_count": 310,
     "metadata": {},
     "output_type": "execute_result"
    }
   ],
   "source": [
    "df['Owners'].unique()"
   ]
  },
  {
   "cell_type": "code",
   "execution_count": 311,
   "id": "e6be0a74",
   "metadata": {},
   "outputs": [
    {
     "data": {
      "text/plain": [
       "1st    2760\n",
       "2nd    1431\n",
       "3rd     381\n",
       "-       312\n",
       "4th      96\n",
       "4+       29\n",
       "Name: Owners, dtype: int64"
      ]
     },
     "execution_count": 311,
     "metadata": {},
     "output_type": "execute_result"
    }
   ],
   "source": [
    "df['Owners'].value_counts()"
   ]
  },
  {
   "cell_type": "code",
   "execution_count": 312,
   "id": "bbebd62c",
   "metadata": {},
   "outputs": [],
   "source": [
    "df['Owners']=df['Owners'].replace('-','1st')"
   ]
  },
  {
   "cell_type": "code",
   "execution_count": 313,
   "id": "9d69c7f7",
   "metadata": {},
   "outputs": [
    {
     "data": {
      "text/plain": [
       "0    MANUAL\n",
       "dtype: object"
      ]
     },
     "execution_count": 313,
     "metadata": {},
     "output_type": "execute_result"
    }
   ],
   "source": [
    "df['Gear'].mode()"
   ]
  },
  {
   "cell_type": "code",
   "execution_count": 314,
   "id": "38514118",
   "metadata": {},
   "outputs": [],
   "source": [
    "df['Gear']=df['Gear'].replace('-','MANUAL')"
   ]
  },
  {
   "cell_type": "code",
   "execution_count": 315,
   "id": "8d893e60",
   "metadata": {},
   "outputs": [],
   "source": [
    "df['Gear']=df['Gear'].replace('--','MANUAL')"
   ]
  },
  {
   "cell_type": "code",
   "execution_count": 316,
   "id": "1acb9212",
   "metadata": {},
   "outputs": [
    {
     "data": {
      "text/plain": [
       "MANUAL       4068\n",
       "AUTOMATIC     941\n",
       "Name: Gear, dtype: int64"
      ]
     },
     "execution_count": 316,
     "metadata": {},
     "output_type": "execute_result"
    }
   ],
   "source": [
    "df['Gear'].value_counts()"
   ]
  },
  {
   "cell_type": "code",
   "execution_count": 317,
   "id": "1e9749b7",
   "metadata": {},
   "outputs": [
    {
     "data": {
      "text/plain": [
       "DIESEL                           2547\n",
       "PETROL                           2018\n",
       "CNG & HYBRIDS                     195\n",
       "-                                 107\n",
       "CNG                                67\n",
       "--                                 37\n",
       "LPG                                31\n",
       "ELECTRIC                            6\n",
       "PETROL/COMPRESSED NATURAL GAS       1\n",
       "Name: Fuel, dtype: int64"
      ]
     },
     "execution_count": 317,
     "metadata": {},
     "output_type": "execute_result"
    }
   ],
   "source": [
    "df['Fuel'].value_counts()"
   ]
  },
  {
   "cell_type": "code",
   "execution_count": 318,
   "id": "659853ed",
   "metadata": {},
   "outputs": [],
   "source": [
    "df['Fuel']=df['Fuel'].replace('--','DIESEL')"
   ]
  },
  {
   "cell_type": "code",
   "execution_count": 319,
   "id": "287a1745",
   "metadata": {},
   "outputs": [],
   "source": [
    "df['Fuel']=df['Fuel'].replace('-','DIESEL')"
   ]
  },
  {
   "cell_type": "code",
   "execution_count": 320,
   "id": "347515c5",
   "metadata": {},
   "outputs": [
    {
     "data": {
      "text/plain": [
       "DIESEL                           2691\n",
       "PETROL                           2018\n",
       "CNG & HYBRIDS                     195\n",
       "CNG                                67\n",
       "LPG                                31\n",
       "ELECTRIC                            6\n",
       "PETROL/COMPRESSED NATURAL GAS       1\n",
       "Name: Fuel, dtype: int64"
      ]
     },
     "execution_count": 320,
     "metadata": {},
     "output_type": "execute_result"
    }
   ],
   "source": [
    "df['Fuel'].value_counts()"
   ]
  },
  {
   "cell_type": "code",
   "execution_count": 321,
   "id": "97dca7ba",
   "metadata": {},
   "outputs": [
    {
     "data": {
      "text/plain": [
       "2012      448\n",
       "2013      437\n",
       "2016      408\n",
       "2014      404\n",
       "2015      386\n",
       "2011      376\n",
       "2017      371\n",
       "2018      369\n",
       "2010      321\n",
       "2009      223\n",
       "2019      215\n",
       "2007      178\n",
       "2008      171\n",
       "2020      129\n",
       "-         107\n",
       "2006      105\n",
       "2021       87\n",
       "2005       61\n",
       "2004       40\n",
       "2003       31\n",
       "2002       26\n",
       "2000       21\n",
       "1998       15\n",
       "2001       14\n",
       "1999       13\n",
       "1997        8\n",
       "2015.0      6\n",
       "1996        6\n",
       "2012.0      4\n",
       "2016.0      4\n",
       "1994        4\n",
       "2017.0      3\n",
       "2014.0      3\n",
       "1995        3\n",
       "2013.0      2\n",
       "2011.0      2\n",
       "1992        1\n",
       "1988        1\n",
       "1905        1\n",
       "1993        1\n",
       "1954        1\n",
       "1990        1\n",
       "1981        1\n",
       "1991        1\n",
       "Name: Mnf_year, dtype: int64"
      ]
     },
     "execution_count": 321,
     "metadata": {},
     "output_type": "execute_result"
    }
   ],
   "source": [
    "df['Mnf_year'].value_counts()"
   ]
  },
  {
   "cell_type": "code",
   "execution_count": 322,
   "id": "bfe78d08",
   "metadata": {},
   "outputs": [],
   "source": [
    "df['Mnf_year']=df['Mnf_year'].replace('2015.0','2015')"
   ]
  },
  {
   "cell_type": "code",
   "execution_count": 323,
   "id": "cea0118b",
   "metadata": {},
   "outputs": [],
   "source": [
    "df['Mnf_year']=df['Mnf_year'].replace('2012.0','2012')"
   ]
  },
  {
   "cell_type": "code",
   "execution_count": 324,
   "id": "cc300062",
   "metadata": {},
   "outputs": [],
   "source": [
    "df['Mnf_year']=df['Mnf_year'].replace('2016.0','2016')"
   ]
  },
  {
   "cell_type": "code",
   "execution_count": 325,
   "id": "db58fe67",
   "metadata": {},
   "outputs": [],
   "source": [
    "df['Mnf_year']=df['Mnf_year'].replace('2017.0','2017')"
   ]
  },
  {
   "cell_type": "code",
   "execution_count": 326,
   "id": "80447d7f",
   "metadata": {},
   "outputs": [],
   "source": [
    "df['Mnf_year']=df['Mnf_year'].replace('2014.0','2014')"
   ]
  },
  {
   "cell_type": "code",
   "execution_count": 327,
   "id": "5961e7a3",
   "metadata": {},
   "outputs": [],
   "source": [
    "df['Mnf_year']=df['Mnf_year'].replace('2013.0','2013')"
   ]
  },
  {
   "cell_type": "code",
   "execution_count": 328,
   "id": "59f7b3df",
   "metadata": {},
   "outputs": [],
   "source": [
    "df['Mnf_year']=df['Mnf_year'].replace('2011.0','2011')"
   ]
  },
  {
   "cell_type": "code",
   "execution_count": 329,
   "id": "9e6dbb4d",
   "metadata": {},
   "outputs": [
    {
     "data": {
      "text/plain": [
       "2012    452\n",
       "2013    439\n",
       "2016    412\n",
       "2014    407\n",
       "2015    392\n",
       "2011    378\n",
       "2017    374\n",
       "2018    369\n",
       "2010    321\n",
       "2009    223\n",
       "2019    215\n",
       "2007    178\n",
       "2008    171\n",
       "2020    129\n",
       "-       107\n",
       "2006    105\n",
       "2021     87\n",
       "2005     61\n",
       "2004     40\n",
       "2003     31\n",
       "2002     26\n",
       "2000     21\n",
       "1998     15\n",
       "2001     14\n",
       "1999     13\n",
       "1997      8\n",
       "1996      6\n",
       "1994      4\n",
       "1995      3\n",
       "1905      1\n",
       "1992      1\n",
       "1981      1\n",
       "1988      1\n",
       "1993      1\n",
       "1954      1\n",
       "1990      1\n",
       "1991      1\n",
       "Name: Mnf_year, dtype: int64"
      ]
     },
     "execution_count": 329,
     "metadata": {},
     "output_type": "execute_result"
    }
   ],
   "source": [
    "df['Mnf_year'].value_counts()"
   ]
  },
  {
   "cell_type": "code",
   "execution_count": 330,
   "id": "09563be0",
   "metadata": {},
   "outputs": [],
   "source": [
    "df['Mnf_year']=df['Mnf_year'].replace('-','2012')"
   ]
  },
  {
   "cell_type": "code",
   "execution_count": 331,
   "id": "b64fc79a",
   "metadata": {},
   "outputs": [
    {
     "data": {
      "text/plain": [
       "Others                   179\n",
       "VXI                      134\n",
       "VDI                      120\n",
       "-                        107\n",
       "LXI                       92\n",
       "                        ... \n",
       "1.2P Titanium Plus MT      1\n",
       "S8 7 Seater                1\n",
       "230 K                      1\n",
       "325i Sedan                 1\n",
       "LXI Opt                    1\n",
       "Name: Model, Length: 1697, dtype: int64"
      ]
     },
     "execution_count": 331,
     "metadata": {},
     "output_type": "execute_result"
    }
   ],
   "source": [
    "df['Model'].value_counts()"
   ]
  },
  {
   "cell_type": "code",
   "execution_count": 332,
   "id": "07b15e67",
   "metadata": {},
   "outputs": [],
   "source": [
    "df['Model']=df['Model'].replace('-','Others')"
   ]
  },
  {
   "cell_type": "code",
   "execution_count": 333,
   "id": "ef6030d4",
   "metadata": {},
   "outputs": [
    {
     "data": {
      "text/plain": [
       "0    Maruti Suzuki Swift \n",
       "dtype: object"
      ]
     },
     "execution_count": 333,
     "metadata": {},
     "output_type": "execute_result"
    }
   ],
   "source": [
    "df['Brand'].mode()"
   ]
  },
  {
   "cell_type": "code",
   "execution_count": 334,
   "id": "303bbaee",
   "metadata": {},
   "outputs": [],
   "source": [
    "df['Brand']=df['Brand'].replace('-','Maruti Suzuki Swift')"
   ]
  },
  {
   "cell_type": "code",
   "execution_count": 335,
   "id": "9ee6ee1a",
   "metadata": {},
   "outputs": [
    {
     "data": {
      "text/plain": [
       "Unnamed: 0    0\n",
       "Location      0\n",
       "Brand         0\n",
       "Model         0\n",
       "Mnf_year      0\n",
       "Driven_kms    0\n",
       "Fuel          0\n",
       "Gear          0\n",
       "Owners        0\n",
       "Car_Price     0\n",
       "dtype: int64"
      ]
     },
     "execution_count": 335,
     "metadata": {},
     "output_type": "execute_result"
    }
   ],
   "source": [
    "df.isin(['-']).sum()"
   ]
  },
  {
   "cell_type": "code",
   "execution_count": 336,
   "id": "58310c13",
   "metadata": {},
   "outputs": [
    {
     "data": {
      "text/plain": [
       "Unnamed: 0    0\n",
       "Location      0\n",
       "Brand         0\n",
       "Model         0\n",
       "Mnf_year      0\n",
       "Driven_kms    0\n",
       "Fuel          0\n",
       "Gear          0\n",
       "Owners        0\n",
       "Car_Price     0\n",
       "dtype: int64"
      ]
     },
     "execution_count": 336,
     "metadata": {},
     "output_type": "execute_result"
    }
   ],
   "source": [
    "df.isin(['--']).sum()"
   ]
  },
  {
   "cell_type": "code",
   "execution_count": 337,
   "id": "25679b25",
   "metadata": {},
   "outputs": [
    {
     "data": {
      "text/plain": [
       "<AxesSubplot:xlabel='Driven_kms', ylabel='Car_Price'>"
      ]
     },
     "execution_count": 337,
     "metadata": {},
     "output_type": "execute_result"
    },
    {
     "data": {
      "image/png": "[encoded data removed]",
      "text/plain": [
       "<Figure size 432x288 with 1 Axes>"
      ]
     },
     "metadata": {
      "needs_background": "light"
     },
     "output_type": "display_data"
    }
   ],
   "source": [
    "sn.scatterplot(df['Driven_kms'],df['Car_Price'])"
   ]
  },
  {
   "cell_type": "code",
   "execution_count": 338,
   "id": "8d064eac",
   "metadata": {},
   "outputs": [
    {
     "data": {
      "text/plain": [
       "<AxesSubplot:xlabel='Fuel', ylabel='count'>"
      ]
     },
     "execution_count": 338,
     "metadata": {},
     "output_type": "execute_result"
    },
    {
     "data": {
      "image/png": "[encoded data removed]",
      "text/plain": [
       "<Figure size 432x288 with 1 Axes>"
      ]
     },
     "metadata": {
      "needs_background": "light"
     },
     "output_type": "display_data"
    }
   ],
   "source": [
    "sn.countplot(df['Fuel'])"
   ]
  },
  {
   "cell_type": "code",
   "execution_count": 339,
   "id": "1b48b5b6",
   "metadata": {},
   "outputs": [
    {
     "data": {
      "text/plain": [
       "<AxesSubplot:xlabel='Gear', ylabel='count'>"
      ]
     },
     "execution_count": 339,
     "metadata": {},
     "output_type": "execute_result"
    },
    {
     "data": {
      "image/png": "[encoded data removed]",
      "text/plain": [
       "<Figure size 432x288 with 1 Axes>"
      ]
     },
     "metadata": {
      "needs_background": "light"
     },
     "output_type": "display_data"
    }
   ],
   "source": [
    "sn.countplot(df['Gear'])"
   ]
  },
  {
   "cell_type": "code",
   "execution_count": 340,
   "id": "a84fa9b0",
   "metadata": {},
   "outputs": [
    {
     "data": {
      "text/plain": [
       "<seaborn.axisgrid.FacetGrid at 0x1b76c279fa0>"
      ]
     },
     "execution_count": 340,
     "metadata": {},
     "output_type": "execute_result"
    },
    {
     "data": {
      "image/png": "[encoded data removed]",
      "text/plain": [
       "<Figure size 454.5x360 with 1 Axes>"
      ]
     },
     "metadata": {
      "needs_background": "light"
     },
     "output_type": "display_data"
    }
   ],
   "source": [
    "sn.catplot(x='Fuel',hue='Gear',kind='count',data=df)"
   ]
  },
  {
   "cell_type": "code",
   "execution_count": 341,
   "id": "06dbe7e2",
   "metadata": {},
   "outputs": [],
   "source": [
    "df.drop('Unnamed: 0',axis=1,inplace=True)"
   ]
  },
  {
   "cell_type": "code",
   "execution_count": 342,
   "id": "ab6ef33d",
   "metadata": {},
   "outputs": [
    {
     "data": {
      "text/plain": [
       "Mnf_year     -3.351705\n",
       "Driven_kms    7.600205\n",
       "Car_Price     7.401500\n",
       "dtype: float64"
      ]
     },
     "execution_count": 342,
     "metadata": {},
     "output_type": "execute_result"
    }
   ],
   "source": [
    "df.skew()"
   ]
  },
  {
   "cell_type": "code",
   "execution_count": 343,
   "id": "63c90868",
   "metadata": {},
   "outputs": [
    {
     "data": {
      "text/html": [
       "<div>\n",
       "<style scoped>\n",
       "    .dataframe tbody tr th:only-of-type {\n",
       "        vertical-align: middle;\n",
       "    }\n",
       "\n",
       "    .dataframe tbody tr th {\n",
       "        vertical-align: top;\n",
       "    }\n",
       "\n",
       "    .dataframe thead th {\n",
       "        text-align: right;\n",
       "    }\n",
       "</style>\n",
       "<table border=\"1\" class=\"dataframe\">\n",
       "  <thead>\n",
       "    <tr style=\"text-align: right;\">\n",
       "      <th></th>\n",
       "      <th>Location</th>\n",
       "      <th>Brand</th>\n",
       "      <th>Model</th>\n",
       "      <th>Mnf_year</th>\n",
       "      <th>Driven_kms</th>\n",
       "      <th>Fuel</th>\n",
       "      <th>Gear</th>\n",
       "      <th>Owners</th>\n",
       "      <th>Car_Price</th>\n",
       "    </tr>\n",
       "  </thead>\n",
       "  <tbody>\n",
       "    <tr>\n",
       "      <th>0</th>\n",
       "      <td>4</td>\n",
       "      <td>238</td>\n",
       "      <td>1625</td>\n",
       "      <td>26</td>\n",
       "      <td>44584.0</td>\n",
       "      <td>2</td>\n",
       "      <td>1</td>\n",
       "      <td>1</td>\n",
       "      <td>375000.0</td>\n",
       "    </tr>\n",
       "    <tr>\n",
       "      <th>1</th>\n",
       "      <td>4</td>\n",
       "      <td>263</td>\n",
       "      <td>1696</td>\n",
       "      <td>30</td>\n",
       "      <td>27324.0</td>\n",
       "      <td>5</td>\n",
       "      <td>0</td>\n",
       "      <td>0</td>\n",
       "      <td>1380000.0</td>\n",
       "    </tr>\n",
       "    <tr>\n",
       "      <th>2</th>\n",
       "      <td>4</td>\n",
       "      <td>26</td>\n",
       "      <td>486</td>\n",
       "      <td>25</td>\n",
       "      <td>90000.0</td>\n",
       "      <td>2</td>\n",
       "      <td>0</td>\n",
       "      <td>1</td>\n",
       "      <td>1750000.0</td>\n",
       "    </tr>\n",
       "    <tr>\n",
       "      <th>3</th>\n",
       "      <td>4</td>\n",
       "      <td>140</td>\n",
       "      <td>1335</td>\n",
       "      <td>14</td>\n",
       "      <td>50000.0</td>\n",
       "      <td>2</td>\n",
       "      <td>1</td>\n",
       "      <td>1</td>\n",
       "      <td>300000.0</td>\n",
       "    </tr>\n",
       "    <tr>\n",
       "      <th>4</th>\n",
       "      <td>4</td>\n",
       "      <td>100</td>\n",
       "      <td>467</td>\n",
       "      <td>22</td>\n",
       "      <td>70000.0</td>\n",
       "      <td>5</td>\n",
       "      <td>1</td>\n",
       "      <td>2</td>\n",
       "      <td>135000.0</td>\n",
       "    </tr>\n",
       "  </tbody>\n",
       "</table>\n",
       "</div>"
      ],
      "text/plain": [
       "   Location  Brand  Model  Mnf_year  Driven_kms  Fuel  Gear  Owners  Car_Price\n",
       "0         4    238   1625        26     44584.0     2     1       1   375000.0\n",
       "1         4    263   1696        30     27324.0     5     0       0  1380000.0\n",
       "2         4     26    486        25     90000.0     2     0       1  1750000.0\n",
       "3         4    140   1335        14     50000.0     2     1       1   300000.0\n",
       "4         4    100    467        22     70000.0     5     1       2   135000.0"
      ]
     },
     "execution_count": 343,
     "metadata": {},
     "output_type": "execute_result"
    }
   ],
   "source": [
    "from sklearn.preprocessing import LabelEncoder\n",
    "\n",
    "le = LabelEncoder()\n",
    "df['Brand'] = le.fit_transform(df['Brand'])\n",
    "df['Model'] = le.fit_transform(df['Model'])\n",
    "df['Mnf_year'] = le.fit_transform(df['Mnf_year'])\n",
    "df['Location'] = le.fit_transform(df['Location'])\n",
    "df['Fuel'] = le.fit_transform(df['Fuel'])\n",
    "df['Gear'] = le.fit_transform(df['Gear'])\n",
    "df['Owners'] = le.fit_transform(df['Owners'])\n",
    "df.head(5)"
   ]
  },
  {
   "cell_type": "code",
   "execution_count": 345,
   "id": "eb5da6d5",
   "metadata": {},
   "outputs": [
    {
     "data": {
      "text/plain": [
       "(array([  63,   73,  102,  103,  103,  111,  118,  123,  132,  135,  142,\n",
       "         185,  263,  288,  293,  324,  331,  355,  428,  455,  511,  515,\n",
       "         548,  628,  644,  645,  672,  703,  733,  734,  747,  757,  759,\n",
       "         804,  911,  921,  926,  965,  986, 1034, 1037, 1050, 1056, 1061,\n",
       "        1063, 1087, 1097, 1097, 1131, 1132, 1142, 1143, 1144, 1175, 1176,\n",
       "        1177, 1200, 1201, 1202, 1203, 1213, 1221, 1222, 1224, 1225, 1237,\n",
       "        1247, 1248, 1255, 1266, 1268, 1269, 1271, 1272, 1273, 1299, 1300,\n",
       "        1308, 1308, 1310, 1354, 1356, 1364, 1370, 1370, 1384, 1389, 1394,\n",
       "        1396, 1397, 1408, 1448, 1458, 1472, 1475, 1498, 1498, 1509, 1510,\n",
       "        1549, 1585, 1601, 1630, 1643, 1643, 1672, 1681, 1688, 1699, 1707,\n",
       "        1725, 1733, 1733, 1754, 1757, 1761, 1764, 1815, 1818, 1825, 1830,\n",
       "        1846, 1850, 1855, 1857, 1857, 1868, 1882, 1891, 1904, 1911, 1915,\n",
       "        1930, 1933, 1935, 1935, 1942, 1966, 1971, 1972, 1974, 1986, 1987,\n",
       "        1997, 1999, 2005, 2111, 2116, 2180, 2253, 2271, 2282, 2288, 2293,\n",
       "        2341, 2351, 2360, 2391, 2402, 2437, 2440, 2464, 2466, 2471, 2475,\n",
       "        2506, 2522, 2542, 2544, 2547, 2583, 2584, 2588, 2591, 2595, 2661,\n",
       "        2665, 2672, 2677, 2729, 2750, 2752, 2756, 2764, 2765, 2766, 2793,\n",
       "        2802, 2808, 2826, 2829, 2830, 2832, 2832, 2832, 2833, 2840, 2863,\n",
       "        2871, 2898, 2899, 2912, 2919, 2919, 2920, 2935, 2954, 2960, 2989,\n",
       "        3016, 3025, 3031, 3040, 3056, 3066, 3071, 3079, 3084, 3086, 3086,\n",
       "        3117, 3146, 3157, 3166, 3187, 3208, 3212, 3214, 3218, 3280, 3306,\n",
       "        3307, 3317, 3330, 3334, 3366, 3367, 3376, 3404, 3427, 3435, 3447,\n",
       "        3447, 3455, 3500, 3511, 3548, 3568, 3583, 3585, 3585, 3586, 3589,\n",
       "        3623, 3629, 3643, 3652, 3655, 3686, 3688, 3694, 3696, 3710, 3783,\n",
       "        3849, 3854, 3865, 3871, 3922, 3941, 3944, 3955, 3985, 4019, 4021,\n",
       "        4063, 4122, 4157, 4158, 4199, 4259, 4297, 4386, 4413, 4419, 4420,\n",
       "        4429, 4430, 4440, 4456, 4474, 4513, 4520, 4523, 4525, 4539, 4542,\n",
       "        4544, 4547, 4563, 4566, 4582, 4604, 4607, 4624, 4632, 4706, 4711,\n",
       "        4747, 4792, 4809, 4832, 4845, 4864, 4911, 4917, 4991], dtype=int64),\n",
       " array([7, 7, 7, 3, 7, 3, 7, 4, 8, 8, 7, 4, 4, 7, 7, 7, 3, 8, 7, 4, 3, 3,\n",
       "        3, 7, 7, 4, 4, 3, 3, 7, 3, 7, 7, 7, 7, 3, 4, 8, 8, 4, 8, 7, 7, 7,\n",
       "        7, 8, 3, 4, 8, 8, 8, 8, 8, 8, 8, 8, 8, 8, 8, 8, 3, 8, 8, 8, 7, 8,\n",
       "        8, 8, 7, 8, 8, 4, 4, 8, 4, 8, 8, 4, 7, 7, 3, 3, 4, 3, 7, 8, 8, 7,\n",
       "        7, 8, 7, 7, 7, 7, 4, 3, 7, 3, 7, 3, 3, 8, 8, 3, 7, 7, 7, 7, 7, 8,\n",
       "        8, 3, 7, 3, 7, 4, 8, 7, 7, 8, 7, 8, 7, 3, 3, 7, 7, 3, 3, 8, 3, 3,\n",
       "        7, 7, 4, 8, 8, 4, 3, 3, 8, 3, 3, 7, 7, 4, 8, 8, 8, 8, 8, 8, 8, 8,\n",
       "        8, 8, 8, 8, 8, 8, 8, 7, 8, 8, 8, 3, 7, 7, 4, 7, 8, 7, 7, 4, 8, 7,\n",
       "        8, 7, 8, 4, 7, 7, 7, 7, 7, 7, 4, 7, 3, 7, 7, 7, 3, 4, 7, 3, 8, 7,\n",
       "        7, 8, 8, 7, 3, 7, 8, 8, 7, 7, 8, 7, 8, 4, 8, 8, 3, 8, 8, 8, 3, 7,\n",
       "        7, 7, 7, 7, 7, 7, 4, 7, 7, 7, 7, 7, 7, 7, 7, 7, 7, 7, 7, 7, 7, 3,\n",
       "        7, 8, 3, 7, 4, 4, 7, 3, 7, 3, 7, 7, 7, 7, 7, 4, 3, 3, 3, 7, 7, 7,\n",
       "        3, 3, 4, 8, 7, 3, 4, 3, 3, 3, 8, 3, 4, 8, 7, 4, 7, 8, 4, 3, 8, 7,\n",
       "        3, 8, 3, 8, 8, 7, 8, 7, 4, 8, 8, 7, 7, 8, 8, 8, 7, 3, 8, 7, 8, 7,\n",
       "        7, 8, 4, 7, 8, 8, 8, 7, 7], dtype=int64))"
      ]
     },
     "execution_count": 345,
     "metadata": {},
     "output_type": "execute_result"
    }
   ],
   "source": [
    "from scipy.stats import zscore\n",
    "import numpy as np\n",
    "z=np.abs(zscore(df))   #converting all values into absolute values\n",
    "threshold=3    #setting up a threshold\n",
    "np.where(z>3)"
   ]
  },
  {
   "cell_type": "code",
   "execution_count": 346,
   "id": "6b9a2aa5",
   "metadata": {},
   "outputs": [
    {
     "data": {
      "text/html": [
       "<div>\n",
       "<style scoped>\n",
       "    .dataframe tbody tr th:only-of-type {\n",
       "        vertical-align: middle;\n",
       "    }\n",
       "\n",
       "    .dataframe tbody tr th {\n",
       "        vertical-align: top;\n",
       "    }\n",
       "\n",
       "    .dataframe thead th {\n",
       "        text-align: right;\n",
       "    }\n",
       "</style>\n",
       "<table border=\"1\" class=\"dataframe\">\n",
       "  <thead>\n",
       "    <tr style=\"text-align: right;\">\n",
       "      <th></th>\n",
       "      <th>Location</th>\n",
       "      <th>Brand</th>\n",
       "      <th>Model</th>\n",
       "      <th>Mnf_year</th>\n",
       "      <th>Driven_kms</th>\n",
       "      <th>Fuel</th>\n",
       "      <th>Gear</th>\n",
       "      <th>Owners</th>\n",
       "      <th>Car_Price</th>\n",
       "    </tr>\n",
       "  </thead>\n",
       "  <tbody>\n",
       "    <tr>\n",
       "      <th>0</th>\n",
       "      <td>4</td>\n",
       "      <td>238</td>\n",
       "      <td>1625</td>\n",
       "      <td>26</td>\n",
       "      <td>44584.0</td>\n",
       "      <td>2</td>\n",
       "      <td>1</td>\n",
       "      <td>1</td>\n",
       "      <td>375000.0</td>\n",
       "    </tr>\n",
       "    <tr>\n",
       "      <th>1</th>\n",
       "      <td>4</td>\n",
       "      <td>263</td>\n",
       "      <td>1696</td>\n",
       "      <td>30</td>\n",
       "      <td>27324.0</td>\n",
       "      <td>5</td>\n",
       "      <td>0</td>\n",
       "      <td>0</td>\n",
       "      <td>1380000.0</td>\n",
       "    </tr>\n",
       "    <tr>\n",
       "      <th>2</th>\n",
       "      <td>4</td>\n",
       "      <td>26</td>\n",
       "      <td>486</td>\n",
       "      <td>25</td>\n",
       "      <td>90000.0</td>\n",
       "      <td>2</td>\n",
       "      <td>0</td>\n",
       "      <td>1</td>\n",
       "      <td>1750000.0</td>\n",
       "    </tr>\n",
       "    <tr>\n",
       "      <th>3</th>\n",
       "      <td>4</td>\n",
       "      <td>140</td>\n",
       "      <td>1335</td>\n",
       "      <td>14</td>\n",
       "      <td>50000.0</td>\n",
       "      <td>2</td>\n",
       "      <td>1</td>\n",
       "      <td>1</td>\n",
       "      <td>300000.0</td>\n",
       "    </tr>\n",
       "    <tr>\n",
       "      <th>4</th>\n",
       "      <td>4</td>\n",
       "      <td>100</td>\n",
       "      <td>467</td>\n",
       "      <td>22</td>\n",
       "      <td>70000.0</td>\n",
       "      <td>5</td>\n",
       "      <td>1</td>\n",
       "      <td>2</td>\n",
       "      <td>135000.0</td>\n",
       "    </tr>\n",
       "    <tr>\n",
       "      <th>...</th>\n",
       "      <td>...</td>\n",
       "      <td>...</td>\n",
       "      <td>...</td>\n",
       "      <td>...</td>\n",
       "      <td>...</td>\n",
       "      <td>...</td>\n",
       "      <td>...</td>\n",
       "      <td>...</td>\n",
       "      <td>...</td>\n",
       "    </tr>\n",
       "    <tr>\n",
       "      <th>5004</th>\n",
       "      <td>1</td>\n",
       "      <td>23</td>\n",
       "      <td>1687</td>\n",
       "      <td>29</td>\n",
       "      <td>62000.0</td>\n",
       "      <td>2</td>\n",
       "      <td>0</td>\n",
       "      <td>0</td>\n",
       "      <td>1037000.0</td>\n",
       "    </tr>\n",
       "    <tr>\n",
       "      <th>5005</th>\n",
       "      <td>1</td>\n",
       "      <td>68</td>\n",
       "      <td>1101</td>\n",
       "      <td>27</td>\n",
       "      <td>85000.0</td>\n",
       "      <td>2</td>\n",
       "      <td>1</td>\n",
       "      <td>1</td>\n",
       "      <td>275000.0</td>\n",
       "    </tr>\n",
       "    <tr>\n",
       "      <th>5006</th>\n",
       "      <td>1</td>\n",
       "      <td>108</td>\n",
       "      <td>1438</td>\n",
       "      <td>33</td>\n",
       "      <td>52150.0</td>\n",
       "      <td>2</td>\n",
       "      <td>1</td>\n",
       "      <td>0</td>\n",
       "      <td>925000.0</td>\n",
       "    </tr>\n",
       "    <tr>\n",
       "      <th>5007</th>\n",
       "      <td>1</td>\n",
       "      <td>163</td>\n",
       "      <td>1581</td>\n",
       "      <td>20</td>\n",
       "      <td>90000.0</td>\n",
       "      <td>5</td>\n",
       "      <td>0</td>\n",
       "      <td>1</td>\n",
       "      <td>89000.0</td>\n",
       "    </tr>\n",
       "    <tr>\n",
       "      <th>5008</th>\n",
       "      <td>1</td>\n",
       "      <td>153</td>\n",
       "      <td>1277</td>\n",
       "      <td>35</td>\n",
       "      <td>0.0</td>\n",
       "      <td>2</td>\n",
       "      <td>0</td>\n",
       "      <td>0</td>\n",
       "      <td>1925000.0</td>\n",
       "    </tr>\n",
       "  </tbody>\n",
       "</table>\n",
       "<p>4707 rows × 9 columns</p>\n",
       "</div>"
      ],
      "text/plain": [
       "      Location  Brand  Model  Mnf_year  Driven_kms  Fuel  Gear  Owners  \\\n",
       "0            4    238   1625        26     44584.0     2     1       1   \n",
       "1            4    263   1696        30     27324.0     5     0       0   \n",
       "2            4     26    486        25     90000.0     2     0       1   \n",
       "3            4    140   1335        14     50000.0     2     1       1   \n",
       "4            4    100    467        22     70000.0     5     1       2   \n",
       "...        ...    ...    ...       ...         ...   ...   ...     ...   \n",
       "5004         1     23   1687        29     62000.0     2     0       0   \n",
       "5005         1     68   1101        27     85000.0     2     1       1   \n",
       "5006         1    108   1438        33     52150.0     2     1       0   \n",
       "5007         1    163   1581        20     90000.0     5     0       1   \n",
       "5008         1    153   1277        35         0.0     2     0       0   \n",
       "\n",
       "      Car_Price  \n",
       "0      375000.0  \n",
       "1     1380000.0  \n",
       "2     1750000.0  \n",
       "3      300000.0  \n",
       "4      135000.0  \n",
       "...         ...  \n",
       "5004  1037000.0  \n",
       "5005   275000.0  \n",
       "5006   925000.0  \n",
       "5007    89000.0  \n",
       "5008  1925000.0  \n",
       "\n",
       "[4707 rows x 9 columns]"
      ]
     },
     "execution_count": 346,
     "metadata": {},
     "output_type": "execute_result"
    }
   ],
   "source": [
    "df_new=df[(z<3).all(axis=1)]\n",
    "df_new"
   ]
  },
  {
   "cell_type": "code",
   "execution_count": 348,
   "id": "93a0a18a",
   "metadata": {},
   "outputs": [
    {
     "data": {
      "text/plain": [
       "6.029147534438012"
      ]
     },
     "execution_count": 348,
     "metadata": {},
     "output_type": "execute_result"
    }
   ],
   "source": [
    "dataloss=((5009-4707)/5009)*100\n",
    "dataloss"
   ]
  },
  {
   "cell_type": "code",
   "execution_count": 357,
   "id": "820a39c7",
   "metadata": {},
   "outputs": [
    {
     "name": "stdout",
     "output_type": "stream",
     "text": [
      "(4707, 8)\n",
      "(4707,)\n"
     ]
    }
   ],
   "source": [
    "x=df_new.drop('Car_Price',axis=1)\n",
    "y=df_new['Car_Price']\n",
    "print(x.shape)\n",
    "print(y.shape)"
   ]
  },
  {
   "cell_type": "code",
   "execution_count": 358,
   "id": "baff0790",
   "metadata": {},
   "outputs": [
    {
     "data": {
      "text/plain": [
       "Location     -0.019892\n",
       "Brand         0.273257\n",
       "Model        -0.348551\n",
       "Mnf_year     -0.414146\n",
       "Driven_kms    0.864759\n",
       "Fuel          0.230715\n",
       "Gear         -1.726267\n",
       "Owners        1.102437\n",
       "dtype: float64"
      ]
     },
     "execution_count": 358,
     "metadata": {},
     "output_type": "execute_result"
    }
   ],
   "source": [
    "x.skew()"
   ]
  },
  {
   "cell_type": "code",
   "execution_count": 355,
   "id": "5c14444a",
   "metadata": {},
   "outputs": [],
   "source": [
    "x['Driven_kms']=np.log1p(x['Driven_kms'])"
   ]
  },
  {
   "cell_type": "code",
   "execution_count": 359,
   "id": "37852b24",
   "metadata": {},
   "outputs": [
    {
     "data": {
      "text/html": [
       "<div>\n",
       "<style scoped>\n",
       "    .dataframe tbody tr th:only-of-type {\n",
       "        vertical-align: middle;\n",
       "    }\n",
       "\n",
       "    .dataframe tbody tr th {\n",
       "        vertical-align: top;\n",
       "    }\n",
       "\n",
       "    .dataframe thead th {\n",
       "        text-align: right;\n",
       "    }\n",
       "</style>\n",
       "<table border=\"1\" class=\"dataframe\">\n",
       "  <thead>\n",
       "    <tr style=\"text-align: right;\">\n",
       "      <th></th>\n",
       "      <th>0</th>\n",
       "      <th>1</th>\n",
       "      <th>2</th>\n",
       "      <th>3</th>\n",
       "      <th>4</th>\n",
       "      <th>5</th>\n",
       "      <th>6</th>\n",
       "      <th>7</th>\n",
       "    </tr>\n",
       "  </thead>\n",
       "  <tbody>\n",
       "    <tr>\n",
       "      <th>0</th>\n",
       "      <td>-0.181272</td>\n",
       "      <td>0.903227</td>\n",
       "      <td>1.191467</td>\n",
       "      <td>-0.306551</td>\n",
       "      <td>-0.632639</td>\n",
       "      <td>-0.751613</td>\n",
       "      <td>0.457946</td>\n",
       "      <td>0.875246</td>\n",
       "    </tr>\n",
       "    <tr>\n",
       "      <th>1</th>\n",
       "      <td>-0.181272</td>\n",
       "      <td>1.207058</td>\n",
       "      <td>1.322589</td>\n",
       "      <td>0.691503</td>\n",
       "      <td>-1.060954</td>\n",
       "      <td>1.181634</td>\n",
       "      <td>-2.183663</td>\n",
       "      <td>-0.708068</td>\n",
       "    </tr>\n",
       "    <tr>\n",
       "      <th>2</th>\n",
       "      <td>-0.181272</td>\n",
       "      <td>-1.673257</td>\n",
       "      <td>-0.912024</td>\n",
       "      <td>-0.556064</td>\n",
       "      <td>0.494380</td>\n",
       "      <td>-0.751613</td>\n",
       "      <td>-2.183663</td>\n",
       "      <td>0.875246</td>\n",
       "    </tr>\n",
       "    <tr>\n",
       "      <th>3</th>\n",
       "      <td>-0.181272</td>\n",
       "      <td>-0.287789</td>\n",
       "      <td>0.655899</td>\n",
       "      <td>-3.300712</td>\n",
       "      <td>-0.498239</td>\n",
       "      <td>-0.751613</td>\n",
       "      <td>0.457946</td>\n",
       "      <td>0.875246</td>\n",
       "    </tr>\n",
       "    <tr>\n",
       "      <th>4</th>\n",
       "      <td>-0.181272</td>\n",
       "      <td>-0.773918</td>\n",
       "      <td>-0.947113</td>\n",
       "      <td>-1.304605</td>\n",
       "      <td>-0.001929</td>\n",
       "      <td>1.181634</td>\n",
       "      <td>0.457946</td>\n",
       "      <td>2.458560</td>\n",
       "    </tr>\n",
       "  </tbody>\n",
       "</table>\n",
       "</div>"
      ],
      "text/plain": [
       "          0         1         2         3         4         5         6  \\\n",
       "0 -0.181272  0.903227  1.191467 -0.306551 -0.632639 -0.751613  0.457946   \n",
       "1 -0.181272  1.207058  1.322589  0.691503 -1.060954  1.181634 -2.183663   \n",
       "2 -0.181272 -1.673257 -0.912024 -0.556064  0.494380 -0.751613 -2.183663   \n",
       "3 -0.181272 -0.287789  0.655899 -3.300712 -0.498239 -0.751613  0.457946   \n",
       "4 -0.181272 -0.773918 -0.947113 -1.304605 -0.001929  1.181634  0.457946   \n",
       "\n",
       "          7  \n",
       "0  0.875246  \n",
       "1 -0.708068  \n",
       "2  0.875246  \n",
       "3  0.875246  \n",
       "4  2.458560  "
      ]
     },
     "execution_count": 359,
     "metadata": {},
     "output_type": "execute_result"
    }
   ],
   "source": [
    "from sklearn.preprocessing import StandardScaler\n",
    "scaler=StandardScaler()\n",
    "x=scaler.fit_transform(x)\n",
    "x=pd.DataFrame(x)\n",
    "x.head()"
   ]
  },
  {
   "cell_type": "code",
   "execution_count": 360,
   "id": "c78cd344",
   "metadata": {},
   "outputs": [],
   "source": [
    "from sklearn.model_selection import train_test_split\n",
    "from sklearn.tree import DecisionTreeRegressor\n",
    "from sklearn.ensemble import RandomForestRegressor\n",
    "from sklearn.ensemble import AdaBoostRegressor\n",
    "from sklearn.ensemble import GradientBoostingRegressor\n",
    "from sklearn.svm import SVR\n",
    "from sklearn.linear_model import LinearRegression,Lasso,Ridge\n",
    "from sklearn.metrics import mean_squared_error,mean_absolute_error,r2_score"
   ]
  },
  {
   "cell_type": "code",
   "execution_count": 361,
   "id": "e37cf097",
   "metadata": {},
   "outputs": [],
   "source": [
    "def chosen_model(model):\n",
    "    maxAccu=0\n",
    "    maxRS=0\n",
    "    for i in range(1,200):\n",
    "        x_train,x_test,y_train,y_test=train_test_split(x,y,test_size=0.33,random_state=i)\n",
    "        lm=model()\n",
    "        lm.fit(x_train,y_train)\n",
    "        pred=lm.predict(x_test)\n",
    "        accu=r2_score(y_test,pred)\n",
    "        if accu>maxAccu:\n",
    "            maxAccu=accu\n",
    "            maxRS=i\n",
    "    print(\"best accuracy is\",maxAccu,\"on random state\",maxRS)"
   ]
  },
  {
   "cell_type": "code",
   "execution_count": 362,
   "id": "faaa57aa",
   "metadata": {},
   "outputs": [
    {
     "name": "stdout",
     "output_type": "stream",
     "text": [
      "best accuracy is 0.8065249845579454 on random state 155\n"
     ]
    }
   ],
   "source": [
    "chosen_model(RandomForestRegressor)"
   ]
  },
  {
   "cell_type": "code",
   "execution_count": 363,
   "id": "8f367cec",
   "metadata": {},
   "outputs": [
    {
     "name": "stdout",
     "output_type": "stream",
     "text": [
      "best accuracy is 0.7203928527458308 on random state 16\n"
     ]
    }
   ],
   "source": [
    "chosen_model(DecisionTreeRegressor)"
   ]
  },
  {
   "cell_type": "code",
   "execution_count": 364,
   "id": "ec37bb25",
   "metadata": {},
   "outputs": [
    {
     "name": "stdout",
     "output_type": "stream",
     "text": [
      "best accuracy is 0.5412097538779104 on random state 2\n"
     ]
    }
   ],
   "source": [
    "chosen_model(AdaBoostRegressor)"
   ]
  },
  {
   "cell_type": "code",
   "execution_count": 365,
   "id": "b9d78cc0",
   "metadata": {},
   "outputs": [
    {
     "name": "stdout",
     "output_type": "stream",
     "text": [
      "best accuracy is 0.7808404035895702 on random state 136\n"
     ]
    }
   ],
   "source": [
    "chosen_model(GradientBoostingRegressor)"
   ]
  },
  {
   "cell_type": "code",
   "execution_count": 366,
   "id": "a5848544",
   "metadata": {},
   "outputs": [
    {
     "name": "stdout",
     "output_type": "stream",
     "text": [
      "best accuracy is 0 on random state 0\n"
     ]
    }
   ],
   "source": [
    "chosen_model(SVR)"
   ]
  },
  {
   "cell_type": "code",
   "execution_count": 367,
   "id": "a32a700f",
   "metadata": {},
   "outputs": [
    {
     "name": "stdout",
     "output_type": "stream",
     "text": [
      "best accuracy is 0.4501019361178221 on random state 159\n"
     ]
    }
   ],
   "source": [
    "chosen_model(LinearRegression)"
   ]
  },
  {
   "cell_type": "code",
   "execution_count": 368,
   "id": "f233f727",
   "metadata": {},
   "outputs": [
    {
     "name": "stdout",
     "output_type": "stream",
     "text": [
      "best accuracy is 0.45010116341622164 on random state 159\n"
     ]
    }
   ],
   "source": [
    "chosen_model(Lasso)"
   ]
  },
  {
   "cell_type": "code",
   "execution_count": 369,
   "id": "a9900f92",
   "metadata": {},
   "outputs": [
    {
     "name": "stdout",
     "output_type": "stream",
     "text": [
      "best accuracy is 0.45007430169953555 on random state 159\n"
     ]
    }
   ],
   "source": [
    "chosen_model(Ridge)"
   ]
  },
  {
   "cell_type": "code",
   "execution_count": 370,
   "id": "69c647db",
   "metadata": {},
   "outputs": [
    {
     "name": "stdout",
     "output_type": "stream",
     "text": [
      "[0.68944668 0.73556882 0.76546205 0.78092519 0.80342918]\n",
      "0.7549663832336383\n",
      "0.03950128779894544\n"
     ]
    }
   ],
   "source": [
    "x_train,x_test,y_train,y_test=train_test_split(x,y,test_size=0.33,random_state=155)\n",
    "from sklearn.model_selection import cross_val_score\n",
    "score=cross_val_score(RandomForestRegressor(),x,y,cv=5)\n",
    "print(score)\n",
    "print(score.mean())\n",
    "print(score.std())"
   ]
  },
  {
   "cell_type": "code",
   "execution_count": 373,
   "id": "e2e2cb01",
   "metadata": {},
   "outputs": [
    {
     "name": "stdout",
     "output_type": "stream",
     "text": [
      "[0.68021811 0.67665132 0.72676278 0.73894957 0.77797194]\n",
      "0.7201107433113311\n",
      "0.038018976271067415\n"
     ]
    }
   ],
   "source": [
    "x_train,x_test,y_train,y_test=train_test_split(x,y,test_size=0.33,random_state=136)\n",
    "from sklearn.model_selection import cross_val_score\n",
    "score=cross_val_score(GradientBoostingRegressor(),x,y,cv=5)\n",
    "print(score)\n",
    "print(score.mean())\n",
    "print(score.std())"
   ]
  },
  {
   "cell_type": "code",
   "execution_count": 371,
   "id": "71ac7c33",
   "metadata": {},
   "outputs": [
    {
     "name": "stdout",
     "output_type": "stream",
     "text": [
      "[0.4050604  0.55042402 0.60704589 0.59667767 0.71291216]\n",
      "0.5744240291352705\n",
      "0.09999841476482625\n"
     ]
    }
   ],
   "source": [
    "x_train,x_test,y_train,y_test=train_test_split(x,y,test_size=0.33,random_state=16)\n",
    "from sklearn.model_selection import cross_val_score\n",
    "score=cross_val_score(DecisionTreeRegressor(),x,y,cv=5)\n",
    "print(score)\n",
    "print(score.mean())\n",
    "print(score.std())"
   ]
  },
  {
   "cell_type": "code",
   "execution_count": 372,
   "id": "dc671a3e",
   "metadata": {},
   "outputs": [
    {
     "name": "stdout",
     "output_type": "stream",
     "text": [
      "[0.29576462 0.3658344  0.46490874 0.46801878 0.34623845]\n",
      "0.3881529985624181\n",
      "0.06791251332878556\n"
     ]
    }
   ],
   "source": [
    "x_train,x_test,y_train,y_test=train_test_split(x,y,test_size=0.33,random_state=2)\n",
    "from sklearn.model_selection import cross_val_score\n",
    "score=cross_val_score(AdaBoostRegressor(),x,y,cv=5)\n",
    "print(score)\n",
    "print(score.mean())\n",
    "print(score.std())"
   ]
  },
  {
   "cell_type": "code",
   "execution_count": 376,
   "id": "9180f226",
   "metadata": {},
   "outputs": [
    {
     "name": "stdout",
     "output_type": "stream",
     "text": [
      "[0.33704018 0.39245143 0.39531889 0.44430828 0.40869894]\n",
      "0.39556354290495055\n",
      "0.034592824521245305\n"
     ]
    }
   ],
   "source": [
    "x_train,x_test,y_train,y_test=train_test_split(x,y,test_size=0.33,random_state=159)\n",
    "from sklearn.model_selection import cross_val_score\n",
    "score=cross_val_score(LinearRegression(),x,y,cv=5)\n",
    "print(score)\n",
    "print(score.mean())\n",
    "print(score.std())"
   ]
  },
  {
   "cell_type": "code",
   "execution_count": 375,
   "id": "0862f2ba",
   "metadata": {},
   "outputs": [
    {
     "name": "stdout",
     "output_type": "stream",
     "text": [
      "[0.33704192 0.39245093 0.39531825 0.44430857 0.40869868]\n",
      "0.39556367169786577\n",
      "0.03459230959683636\n"
     ]
    }
   ],
   "source": [
    "x_train,x_test,y_train,y_test=train_test_split(x,y,test_size=0.33,random_state=159)\n",
    "from sklearn.model_selection import cross_val_score\n",
    "score=cross_val_score(Lasso(),x,y,cv=5)\n",
    "print(score)\n",
    "print(score.mean())\n",
    "print(score.std())"
   ]
  },
  {
   "cell_type": "code",
   "execution_count": 374,
   "id": "3dfc8d25",
   "metadata": {},
   "outputs": [
    {
     "name": "stdout",
     "output_type": "stream",
     "text": [
      "[0.33709305 0.39245999 0.3953041  0.44430255 0.40869247]\n",
      "0.39557043173574374\n",
      "0.03457269696872614\n"
     ]
    }
   ],
   "source": [
    "x_train,x_test,y_train,y_test=train_test_split(x,y,test_size=0.33,random_state=159)\n",
    "from sklearn.model_selection import cross_val_score\n",
    "score=cross_val_score(Ridge(),x,y,cv=5)\n",
    "print(score)\n",
    "print(score.mean())\n",
    "print(score.std())"
   ]
  },
  {
   "cell_type": "code",
   "execution_count": 377,
   "id": "d922429e",
   "metadata": {},
   "outputs": [],
   "source": [
    "from sklearn.model_selection import GridSearchCV\n",
    "import numpy as np"
   ]
  },
  {
   "cell_type": "code",
   "execution_count": 378,
   "id": "7569a59b",
   "metadata": {},
   "outputs": [],
   "source": [
    "parameter={\n",
    "         'max_features':['auto','sqrt','log2'],\n",
    "          'min_samples_split':np.arange(0,10),\n",
    "          'max_depth':np.arange(0,10),\n",
    "          'min_samples_leaf':np.arange(0,10)}"
   ]
  },
  {
   "cell_type": "code",
   "execution_count": 379,
   "id": "a89abb48",
   "metadata": {},
   "outputs": [],
   "source": [
    "GCV=GridSearchCV(RandomForestRegressor(),parameter,cv=10)"
   ]
  },
  {
   "cell_type": "code",
   "execution_count": 380,
   "id": "52c03535",
   "metadata": {},
   "outputs": [
    {
     "data": {
      "text/plain": [
       "GridSearchCV(cv=10, estimator=RandomForestRegressor(),\n",
       "             param_grid={'max_depth': array([0, 1, 2, 3, 4, 5, 6, 7, 8, 9]),\n",
       "                         'max_features': ['auto', 'sqrt', 'log2'],\n",
       "                         'min_samples_leaf': array([0, 1, 2, 3, 4, 5, 6, 7, 8, 9]),\n",
       "                         'min_samples_split': array([0, 1, 2, 3, 4, 5, 6, 7, 8, 9])})"
      ]
     },
     "execution_count": 380,
     "metadata": {},
     "output_type": "execute_result"
    }
   ],
   "source": [
    "GCV.fit(x_train,y_train)"
   ]
  },
  {
   "cell_type": "code",
   "execution_count": 381,
   "id": "f19efa7b",
   "metadata": {},
   "outputs": [
    {
     "data": {
      "text/plain": [
       "{'max_depth': 9,\n",
       " 'max_features': 'auto',\n",
       " 'min_samples_leaf': 3,\n",
       " 'min_samples_split': 3}"
      ]
     },
     "execution_count": 381,
     "metadata": {},
     "output_type": "execute_result"
    }
   ],
   "source": [
    "GCV.best_params_"
   ]
  },
  {
   "cell_type": "code",
   "execution_count": 405,
   "id": "3bd0e048",
   "metadata": {},
   "outputs": [
    {
     "name": "stdout",
     "output_type": "stream",
     "text": [
      "77.32159092998832\n"
     ]
    }
   ],
   "source": [
    "car_mod=RandomForestRegressor(max_features='auto',max_depth=9,min_samples_leaf=3,min_samples_split=3)\n",
    "car_mod.fit(x_train,y_train)\n",
    "pred=car_mod.predict(x_test)\n",
    "acc=r2_score(y_test,pred)\n",
    "print(acc*100)"
   ]
  },
  {
   "cell_type": "code",
   "execution_count": 406,
   "id": "ce850e2f",
   "metadata": {},
   "outputs": [
    {
     "data": {
      "text/plain": [
       "['usedcarpricemodel.pkl']"
      ]
     },
     "execution_count": 406,
     "metadata": {},
     "output_type": "execute_result"
    }
   ],
   "source": [
    "import joblib\n",
    "joblib.dump(car_mod,\"usedcarpricemodel.pkl\")"
   ]
  },
  {
   "cell_type": "code",
   "execution_count": null,
   "id": "7c82f55c",
   "metadata": {},
   "outputs": [],
   "source": []
  }
 ],
 "metadata": {
  "kernelspec": {
   "display_name": "Python 3",
   "language": "python",
   "name": "python3"
  },
  "language_info": {
   "codemirror_mode": {
    "name": "ipython",
    "version": 3
   },
   "file_extension": ".py",
   "mimetype": "text/x-python",
   "name": "python",
   "nbconvert_exporter": "python",
   "pygments_lexer": "ipython3",
   "version": "3.8.8"
  }
 },
 "nbformat": 4,
 "nbformat_minor": 5
}
